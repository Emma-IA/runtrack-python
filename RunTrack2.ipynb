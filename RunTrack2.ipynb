{
 "cells": [
  {
   "cell_type": "markdown",
   "id": "7618ca6a-3c90-4fe9-bdfc-263725ac902c",
   "metadata": {},
   "source": [
    "## Job0"
   ]
  },
  {
   "cell_type": "code",
   "execution_count": 1,
   "id": "730e20ba-ecf9-43df-a487-b5500027b96b",
   "metadata": {},
   "outputs": [
    {
     "name": "stdout",
     "output_type": "stream",
     "text": [
      "prenom :  <bound method Personne.get_noms of <__main__.Personne object at 0x0000021166477D00>>\n",
      "Mon nom est Mendizabal et mon prénom est Emma\n",
      "('Mendizabal', 'Emma')\n",
      "('Mendizabal', 'Manon')\n",
      "Mon nom est Mendizabal et mon prénom est Manon\n",
      "Mon nom est Haidan et mon prénom est Victor\n"
     ]
    }
   ],
   "source": [
    "class Personne(object):\n",
    "    \n",
    "    def __init__(self, nom, prenom):\n",
    "        self._nom = nom\n",
    "        self._prenom = prenom\n",
    "\n",
    "    def set_noms(self, nom, prenom):\n",
    "        self._nom = nom\n",
    "        self._prenom = prenom\n",
    "        \n",
    " \n",
    "    def get_noms(self):\n",
    "        return  self._nom, self._prenom\n",
    "        \n",
    "    \n",
    "    def SePresenter(self):\n",
    "        print(\"Mon nom est\", self._nom, \"et mon prénom est\", self._prenom)\n",
    "        \n",
    "P1= Personne(\"Mendizabal\", \"Emma\")\n",
    "print(\"prenom : \",P1.get_noms)\n",
    "P1.SePresenter()\n",
    "\n",
    "\n",
    "\n",
    "print (P1.get_noms())\n",
    "P1.set_noms('Mendizabal','Manon')\n",
    "print (P1.get_noms())\n",
    "P1.SePresenter()\n",
    "\n",
    "P2= Personne(\"Haidan\", \"Victor\")\n",
    "P2.SePresenter()     \n"
   ]
  },
  {
   "cell_type": "markdown",
   "id": "c72cacd0-ee30-49f7-aeff-b2a2e55fbb10",
   "metadata": {},
   "source": [
    "# Question \n",
    "comment faire constructeurs par défaut et paramétrés? "
   ]
  },
  {
   "cell_type": "markdown",
   "id": "fc215268-f045-4160-a071-a020fc4b5a54",
   "metadata": {},
   "source": [
    "## Job1"
   ]
  },
  {
   "cell_type": "code",
   "execution_count": 2,
   "id": "4798d8bb-3837-4398-ba6f-12662ac36d04",
   "metadata": {},
   "outputs": [
    {
     "name": "stdout",
     "output_type": "stream",
     "text": [
      "['Les Misérables']\n",
      "['Les Misérables', 'abcd']\n",
      "Les Misérables\n",
      "abcd\n"
     ]
    }
   ],
   "source": [
    "\n",
    "class Personne(object):\n",
    "    \n",
    "    def __init__(self, nom, prénom):\n",
    "        self.nom=nom\n",
    "        self.prénom=prénom\n",
    "\n",
    "\n",
    "class Livre(object):\n",
    "    \n",
    "    def __init__ (self, titre, nom_auteur, prénom_auteur):\n",
    "        self.titre=titre\n",
    "        self.nom_auteur=nom_auteur\n",
    "        self.nom_auteur=prénom_auteur\n",
    "        \n",
    "    def set_livre(self, titre):\n",
    "        self.titre=titre\n",
    "        \n",
    "    def get_livre(self):\n",
    "        return self.titre\n",
    "        \n",
    "    def print(self):\n",
    "        print(self.titre)\n",
    "\n",
    "class Auteur(Personne):\n",
    "    \n",
    "    def __init__ (self, nom, prénom, oeuvre:list):\n",
    "        self.oeuvre=oeuvre\n",
    "        Personne.__init__(self, nom, prénom)\n",
    "        \n",
    "    def listerOeuvre(self):\n",
    "        [print(l) for  l in self.oeuvre]\n",
    "        \n",
    "    def ecrireUnLivre(self, titre): \n",
    "        nouveau_livre=Livre(titre, self.nom, self.prénom)\n",
    "        (self.oeuvre).append(titre)\n",
    "        \n",
    "    def get_oeuvre(self):\n",
    "        return self.oeuvre\n",
    "    \n",
    "    def set_auteur(self, oeuvre):\n",
    "        \n",
    "        self.oeuvre=oeuvre\n",
    "    \n",
    "\n",
    "A1=Auteur(\"Victor\",\"Hugo\", [\"Les Misérables\"])\n",
    "print(A1.oeuvre)\n",
    "A1.ecrireUnLivre(\"abcd\")\n",
    "print(A1.oeuvre)\n",
    "A1.listerOeuvre()\n",
    "    \n",
    "    "
   ]
  },
  {
   "cell_type": "markdown",
   "id": "86f63de9-9206-4fb9-9609-80cdd2f56b0d",
   "metadata": {},
   "source": [
    "## Job2"
   ]
  },
  {
   "cell_type": "code",
   "execution_count": 3,
   "id": "89b7c5a0-52f0-43c1-8f2d-6c3b6479a142",
   "metadata": {},
   "outputs": [
    {
     "name": "stdout",
     "output_type": "stream",
     "text": [
      "nombres de livres avant location: 2\n",
      "livre: premierlivredeflo collection: ['pythonpourlesnuls', 'Les Misérables'] catalogue : [['Les Misérables', 1], ['passemiroir', 1], ['premierlivredeflo', 1]]\n",
      "livre: Les Misérables collection: ['pythonpourlesnuls'] catalogue : [['Les Misérables', 2], ['passemiroir', 1], ['premierlivredeflo', 1]]\n"
     ]
    }
   ],
   "source": [
    "import numpy as np\n",
    "\n",
    "class Client(Personne): \n",
    "    def __init__(self, nom, prénom, collection:list):\n",
    "        self.collection=collection\n",
    "        Personne.__init__(self, nom, prénom)\n",
    "        \n",
    "    def inventaire(self):\n",
    "        [print(livreperso) for livreperso in self.collection]\n",
    "        \n",
    "\n",
    "class Bibliothèque(object):\n",
    "    \n",
    "    def __init__(self, nom, catalogue:list):\n",
    "        self.nom=nom\n",
    "        self.catalogue=catalogue\n",
    "        \n",
    "    def acheterLivre(self, nom_auteur, prénom_auteur, livre, quantité:int):\n",
    "        if livre in (Auteur(nom, prénom, oeuvre).get_oeuvre): #on crée un Auteur ici non? \n",
    "            #Il faut faire un héritage, une agrégation? Ou une référence en ajoutant dans les attributs?\n",
    "            (self.catalogue).append([Livre(livre, nom, prénom), quantité])\n",
    "            print(self.catalogue)\n",
    "        else:\n",
    "            print(\"rupture de stock\")\n",
    "    \n",
    "    def inventaire(self):\n",
    "        [print(t_et_q) for t_et_q in self.catalogue]\n",
    "        \n",
    "    def louer(self, client:Client, livre): #dictionnaires = mieux\n",
    "        for i in range(len(self.catalogue)):\n",
    "            if livre in self.catalogue[i][0] and self.catalogue[i][1]>0: #pour avoir seulement les titres du catalogue, fonctionne?\n",
    "                print(\"nombres de livres avant location:\",self.catalogue[i][1])\n",
    "                self.catalogue[i][1]-=1\n",
    "                (client.collection).append(livre)\n",
    "                \n",
    "    def rendreLivres(self, client:Client):\n",
    "        for livre in client.collection:\n",
    "            if livre in list(zip(*self.catalogue))[0]:\n",
    "                index_livre=list(zip(*self.catalogue))[0].index(livre)\n",
    "                self.catalogue[index_livre][1]+=1\n",
    "            else:\n",
    "                self.catalogue.append([livre, 1])\n",
    "            client.collection.remove(livre)\n",
    "            print(\"livre:\",livre, \"collection:\", client.collection, \"catalogue :\",self.catalogue)\n",
    "            \n",
    "\n",
    "        \n",
    "C1=Client(\"Mendiz\",\"Flo\", [\"premierlivredeflo\",\"pythonpourlesnuls\"])                \n",
    "B1=Bibliothèque(\"bibli1\", [['Les Misérables', 2],['passemiroir', 1]])\n",
    "B1.louer(C1,'Les Misérables')\n",
    "B1.rendreLivres(C1)\n"
   ]
  },
  {
   "cell_type": "markdown",
   "id": "07638195-c0c3-43e8-b17a-9e493f8bb9ec",
   "metadata": {},
   "source": [
    "## Job7"
   ]
  },
  {
   "cell_type": "code",
   "execution_count": null,
   "id": "b16d4713-a555-49b7-9fb9-e7fc6d09fd8d",
   "metadata": {},
   "outputs": [],
   "source": [
    "### class Player(Personne):\n",
    "    \n",
    "    def __init__ (self, color:str, nom, prénom):\n",
    "        self.color=color\n",
    "        Personne.__init__(self, nom, prénom)\n",
    "        \n",
    "\n",
    "class Board(object):\n",
    "    \n",
    "    def __init__(self, i, j):\n",
    "        self.i=i\n",
    "        self.j=j\n",
    "        self.board=[['0']*self.j for x in range(self.i)]\n",
    "        \n",
    "    def play(self,column,color):\n",
    "        line=self.i-1\n",
    "        while self.board[line][column]!='0' and 0<=line: \n",
    "            line-=1\n",
    "        if line>=0:\n",
    "            self.board[line][column]=color\n",
    "        else:\n",
    "            return \"chose an other column !\"\n",
    "        return self.board, line\n",
    "           \n",
    "    def print(self):\n",
    "        print(self.board)   \n",
    "        \n",
    "        \n",
    "    def gamePlay(self):\n",
    "        end=False\n",
    "        tour=0\n",
    "        while not end:\n",
    "            for player in [\"J\",\"R\"]:\n",
    "                column=int(input())\n",
    "                print('joueur: ',player, ', et tour :',tour)\n",
    "                board_state=self.play(column,player)\n",
    "                print(board_state)\n",
    "                if self.check_win(board_state[1], column,player):\n",
    "                    return player, \"win!\"\n",
    "               \n",
    "            tour+=1\n",
    "        return \"lose\"\n",
    " \n",
    "\n",
    "    def check_win(self, line, column, player):\n",
    "        if line+3<=self.i-1 and self.board[line+1][column]==player and self.board[line+2][column]==player and self.board[line+3][column]==player:\n",
    "            return True\n",
    "        elif column-3>=0 and self.board[line][column-3]==player and self.board[line][column-2]==player and self.board[line][column-1]==player and self.board[line][column]==player:\n",
    "            return True\n",
    "        elif column-2>=0 and column+1<=self.j-1 and self.board[line][column-2]==player and self.board[line][column-1]==player and self.board[line][column]==player and self.board[line][column+1]==player:\n",
    "            return True\n",
    "        elif column-1>=0 and column+2<=self.j-1 and self.board[line][column-1]==player and self.board[line][column]==player and self.board[line][column+1]==player and self.board[line][column+2]==player:\n",
    "            return True\n",
    "        elif column+3<=self.j-1 and self.board[line][column]==player and self.board[line][column+1]==player and self.board[line][column+2]==player and self.board[line][column+3]==player:\n",
    "            return True\n",
    "\n",
    "        \n",
    "\n",
    "\n",
    "        \n",
    "B1=Board(5,5)\n",
    "# B1.play(2,\"J\")\n",
    "B1.gamePlay()"
   ]
  },
  {
   "cell_type": "markdown",
   "id": "524ea683-34ce-40b8-b6f3-ac251419f9f3",
   "metadata": {},
   "source": [
    "## Job 20"
   ]
  },
  {
   "cell_type": "code",
   "execution_count": null,
   "id": "2acd9860-db36-4448-9351-179f4aa7a209",
   "metadata": {},
   "outputs": [
    {
     "name": "stdout",
     "output_type": "stream",
     "text": [
      "[0 1 2 3 4]\n"
     ]
    },
    {
     "name": "stdin",
     "output_type": "stream",
     "text": [
      " 2\n"
     ]
    },
    {
     "name": "stdout",
     "output_type": "stream",
     "text": [
      "joueur : J\n",
      "[['0' '0' '0' '0' '0']\n",
      " ['0' '0' '0' '0' '0']\n",
      " ['0' '0' '0' '0' '0']\n",
      " ['0' '0' '0' '0' '0']\n",
      " ['0' '0' 'J' '0' '0']]\n",
      "joueur : R\n",
      "5\n",
      "[0 1 2 3 4]\n",
      "[['0' '0' '0' '0' '0']\n",
      " ['0' '0' '0' '0' '0']\n",
      " ['0' '0' '0' '0' '0']\n",
      " ['0' '0' '0' '0' '0']\n",
      " ['0' '0' 'J' 'R' '0']]\n"
     ]
    },
    {
     "name": "stdin",
     "output_type": "stream",
     "text": [
      " 4\n"
     ]
    },
    {
     "name": "stdout",
     "output_type": "stream",
     "text": [
      "joueur : J\n",
      "[['0' '0' '0' '0' '0']\n",
      " ['0' '0' '0' '0' '0']\n",
      " ['0' '0' '0' '0' '0']\n",
      " ['0' '0' '0' '0' '0']\n",
      " ['0' '0' 'J' 'R' 'J']]\n",
      "joueur : R\n",
      "5\n",
      "[0 1 2 3 4]\n",
      "[['0' '0' '0' '0' '0']\n",
      " ['0' '0' '0' '0' '0']\n",
      " ['0' '0' '0' '0' '0']\n",
      " ['0' '0' '0' '0' 'R']\n",
      " ['0' '0' 'J' 'R' 'J']]\n"
     ]
    }
   ],
   "source": [
    "class AI_One(): \n",
    "    \n",
    "    def __init__(self, color):\n",
    "        self.color=color\n",
    "        \n",
    "    def column_not_full(self, column, plateau:Board):\n",
    "        nb_columns=len(plateau.board[0])\n",
    "        empty_columns=np.arange(nb_columns)\n",
    "        for j in range (nb_columns):\n",
    "            if plateau.board[0][j]!='0':\n",
    "                np.delete(empty_columns,j)\n",
    "        print(empty_columns)\n",
    "        return empty_columns\n",
    "    \n",
    "    def think(self, plateau:Board):\n",
    "        print(plateau.j)\n",
    "        for column in range(plateau.j):\n",
    "            line=plateau.i-1\n",
    "            while plateau.board[line][column]!='0' and 0<=line:\n",
    "                line-=1\n",
    "            if plateau.check_win(line, column, self.color):\n",
    "                plateau.play(column,self.color)\n",
    "                return \"win!\", plateau.board, line\n",
    "            else: \n",
    "                column=np.random.randint(0,len(plateau.board[0]))\n",
    "                available_columns=self.column_not_full(column, plateau)\n",
    "                if column not in available_columns:\n",
    "                    column=available_columns[0]\n",
    "                plateau.play(column,self.color)\n",
    "                return \"no perfect choice for AI for now: put on 1st column by default\",plateau.board, line\n",
    "       \n",
    "    \n",
    "    def GamePlayAgainstAI(self, plateau):\n",
    "        end=False\n",
    "        tour=0\n",
    "        while not end:\n",
    "            for player in [\"J\",\"R\"]:\n",
    "                if player==self.color:\n",
    "                    print(\"joueur :\",player)\n",
    "                    AI_think=self.think(plateau)\n",
    "                    print(np.array(plateau.board))\n",
    "                    end=plateau.check_win(AI_think[2],column,player)\n",
    "                    if end:\n",
    "                        return player, \"win!\"\n",
    "                else:\n",
    "                    column=int(input())\n",
    "                    print(\"joueur :\", player)\n",
    "                    board_state=plateau.play(column,player)\n",
    "                    print(np.array(board_state[0]))\n",
    "                    end=plateau.check_win(board_state[1], column,player)\n",
    "                    if end:\n",
    "                        return player, \"win!\"\n",
    "                    \n",
    "            tour+=1\n",
    "        return \"no one won\"\n",
    "  \n",
    "\n",
    "AI1=AI_One('R')\n",
    "B1=Board(5,5)\n",
    "AI1.column_not_full(2,B1)\n",
    "AI1.GamePlayAgainstAI(B1)\n",
    "\n",
    "\n",
    "# Ne marche pas, car l'IA ne gagne pas même quand je lui en laisse l'occasion ... elle sait comment gagner mais pas comment faire perdre ... "
   ]
  },
  {
   "cell_type": "markdown",
   "id": "3b3b6343-0fd2-47a7-bdc8-921a2eb25f93",
   "metadata": {},
   "source": [
    "# "
   ]
  },
  {
   "cell_type": "code",
   "execution_count": null,
   "id": "33c23e0a-0309-4431-abee-55ea7170cbf2",
   "metadata": {},
   "outputs": [],
   "source": []
  }
 ],
 "metadata": {
  "kernelspec": {
   "display_name": "Python 3 (ipykernel)",
   "language": "python",
   "name": "python3"
  },
  "language_info": {
   "codemirror_mode": {
    "name": "ipython",
    "version": 3
   },
   "file_extension": ".py",
   "mimetype": "text/x-python",
   "name": "python",
   "nbconvert_exporter": "python",
   "pygments_lexer": "ipython3",
   "version": "3.10.4"
  }
 },
 "nbformat": 4,
 "nbformat_minor": 5
}
