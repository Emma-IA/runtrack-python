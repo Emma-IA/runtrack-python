{
 "cells": [
  {
   "cell_type": "code",
   "execution_count": 1,
   "id": "48ab9fe4-014f-4604-a124-e34e50069d35",
   "metadata": {},
   "outputs": [],
   "source": [
    "#correction RunTrack1 : https://colab.research.google.com/drive/1miUXG_1AcLYbvYMOPJTUUNVMM7_7uhqx?usp=sharing#scrollTo=lPDmSLuIyOkP"
   ]
  },
  {
   "cell_type": "code",
   "execution_count": 2,
   "id": "fc1b3419",
   "metadata": {},
   "outputs": [
    {
     "data": {
      "text/plain": [
       "3"
      ]
     },
     "execution_count": 2,
     "metadata": {},
     "output_type": "execute_result"
    }
   ],
   "source": [
    "#Job 2\n",
    "10//3"
   ]
  },
  {
   "cell_type": "code",
   "execution_count": 3,
   "id": "ca3bd832",
   "metadata": {},
   "outputs": [
    {
     "name": "stdout",
     "output_type": "stream",
     "text": [
      "13\n"
     ]
    }
   ],
   "source": [
    "#Job 3\n",
    "print (10 + 3)"
   ]
  },
  {
   "cell_type": "code",
   "execution_count": 4,
   "id": "bae0750b-e773-4dfd-ab88-7a2a45a00176",
   "metadata": {},
   "outputs": [
    {
     "name": "stdout",
     "output_type": "stream",
     "text": [
      "4\n"
     ]
    }
   ],
   "source": [
    "#Job 7\n",
    "\n",
    "def Add(x,y):\n",
    "    return x + y\n",
    "\n",
    "print (Add(2,2))"
   ]
  },
  {
   "cell_type": "code",
   "execution_count": 6,
   "id": "5b44058a-4cd6-4956-aec0-d586a9580711",
   "metadata": {},
   "outputs": [
    {
     "name": "stdin",
     "output_type": "stream",
     "text": [
      " a\n"
     ]
    },
    {
     "name": "stdout",
     "output_type": "stream",
     "text": [
      "Hello a!\n"
     ]
    }
   ],
   "source": [
    "#Job 11\n",
    "name = input()\n",
    "print (\"Hello \"+name+ \"!\")"
   ]
  },
  {
   "cell_type": "code",
   "execution_count": 8,
   "id": "e00fa46e-f020-430c-b8cb-5075de0f8a3b",
   "metadata": {},
   "outputs": [
    {
     "name": "stdin",
     "output_type": "stream",
     "text": [
      " 2\n",
      " 3\n",
      " 6\n",
      " 4\n",
      " 6\n"
     ]
    },
    {
     "name": "stdout",
     "output_type": "stream",
     "text": [
      "[2. 3. 4. 6. 6.]\n"
     ]
    }
   ],
   "source": [
    "#Job 13\n",
    "\n",
    "import numpy as np \n",
    "\n",
    "def fiveNb():\n",
    "    list_stock = np.zeros(5)\n",
    "    for i in range(5):\n",
    "        list_stock[i]=input() #input integer\n",
    "    list_stock.sort()\n",
    "    return list_stock\n",
    "print(fiveNb())\n",
    "\n"
   ]
  },
  {
   "cell_type": "code",
   "execution_count": 9,
   "id": "18f6cec8-8f7d-406e-9952-93f70b6297fa",
   "metadata": {},
   "outputs": [
    {
     "name": "stdout",
     "output_type": "stream",
     "text": [
      "1\n",
      "2\n",
      "Fizz\n",
      "4\n",
      "Buzz\n",
      "Fizz\n",
      "7\n",
      "8\n",
      "Fizz\n",
      "Buzz\n",
      "11\n",
      "Fizz\n",
      "13\n",
      "14\n",
      "FizzBuzz\n",
      "16\n",
      "17\n",
      "Fizz\n",
      "19\n",
      "Buzz\n",
      "Fizz\n",
      "22\n",
      "23\n",
      "Fizz\n",
      "Buzz\n",
      "26\n",
      "Fizz\n",
      "28\n",
      "29\n",
      "FizzBuzz\n",
      "31\n",
      "32\n",
      "Fizz\n",
      "34\n",
      "Buzz\n",
      "Fizz\n",
      "37\n",
      "38\n",
      "Fizz\n",
      "Buzz\n",
      "41\n",
      "Fizz\n",
      "43\n",
      "44\n",
      "FizzBuzz\n",
      "46\n",
      "47\n",
      "Fizz\n",
      "49\n",
      "Buzz\n",
      "Fizz\n",
      "52\n",
      "53\n",
      "Fizz\n",
      "Buzz\n",
      "56\n",
      "Fizz\n",
      "58\n",
      "59\n",
      "FizzBuzz\n",
      "61\n",
      "62\n",
      "Fizz\n",
      "64\n",
      "Buzz\n",
      "Fizz\n",
      "67\n",
      "68\n",
      "Fizz\n",
      "Buzz\n",
      "71\n",
      "Fizz\n",
      "73\n",
      "74\n",
      "FizzBuzz\n",
      "76\n",
      "77\n",
      "Fizz\n",
      "79\n",
      "Buzz\n",
      "Fizz\n",
      "82\n",
      "83\n",
      "Fizz\n",
      "Buzz\n",
      "86\n",
      "Fizz\n",
      "88\n",
      "89\n",
      "FizzBuzz\n",
      "91\n",
      "92\n",
      "Fizz\n",
      "94\n",
      "Buzz\n",
      "Fizz\n",
      "97\n",
      "98\n",
      "Fizz\n",
      "Buzz\n",
      "None\n"
     ]
    }
   ],
   "source": [
    "#Job 17\n",
    "\n",
    "def FizzBuzz():\n",
    "    for i in range(1, 101):\n",
    "        if i//3 == i/3 :\n",
    "            if i//5 == i/5:\n",
    "                print(\"FizzBuzz\")\n",
    "            else :\n",
    "                print(\"Fizz\")\n",
    "        elif i//5 == i/5 :\n",
    "            print(\"Buzz\")\n",
    "        else :\n",
    "            print(i)\n",
    "\n",
    "print(FizzBuzz())\n",
    "\n",
    "        "
   ]
  },
  {
   "cell_type": "code",
   "execution_count": 10,
   "id": "fa47b5fc-7a88-443f-ae71-e8e23cdafcc0",
   "metadata": {},
   "outputs": [
    {
     "name": "stdout",
     "output_type": "stream",
     "text": [
      "|--------|\n",
      "|        |\n",
      "|        |\n",
      "|        |\n",
      "|        |\n",
      "|--------|\n",
      "None\n"
     ]
    }
   ],
   "source": [
    "#Job 19\n",
    "\n",
    "# Écrire un programme qui affiche dans le terminal un rectangle avec des ‘-’ et des ‘|’ en\n",
    "# fonction des paramètres d’entrées, (width, height), par exemple :\n",
    "# draw_rectangle(10, 3)\n",
    "# |--------|\n",
    "# | |\n",
    "# |--------|\n",
    "\n",
    "def horizontal_edges(width):\n",
    "    print(\"|\", end=\"\")\n",
    "    for j in range (1,width-1):\n",
    "        print(\"-\", end=\"\")\n",
    "    print(\"|\")\n",
    "\n",
    "def draw_rectangle(width, height):\n",
    "    horizontal_edges(width)\n",
    "    for i in range (1, height-1):\n",
    "        print(\"|\", end=\"\")\n",
    "        for j in range (1,width-1): \n",
    "            print(\" \",end=\"\")\n",
    "        print(\"|\")\n",
    "    horizontal_edges(width)\n",
    "    \n",
    "            \n",
    "            \n",
    "\n",
    "print(draw_rectangle(10,6))"
   ]
  },
  {
   "cell_type": "code",
   "execution_count": 11,
   "id": "4434e174-ffee-437c-bfa6-2a5306d1fdd4",
   "metadata": {},
   "outputs": [
    {
     "name": "stdout",
     "output_type": "stream",
     "text": [
      "    /\\   \n",
      "   /  \\    \n",
      "  /    \\     \n",
      " /      \\      \n",
      "/________\\\n",
      "None\n"
     ]
    }
   ],
   "source": [
    "#Job 23\n",
    "\n",
    "\n",
    "def draw_triangle(height):\n",
    "        for i in range (height-1):\n",
    "            for j in range (height-1 - i):\n",
    "                print (\" \",end=\"\")\n",
    "            print(\"/\", end=\"\")\n",
    "            for j in range (i*2):\n",
    "                print(\" \",end=\"\")\n",
    "            print('\\\\', end=\"\")\n",
    "            for j in range (height-1 + i-1):\n",
    "                print (\" \",end=\"\")\n",
    "            print(\"\")\n",
    "        print(\"/\", end=\"\")\n",
    "        for j in range(height*2-2):\n",
    "            print(\"_\", end=\"\")\n",
    "        print(\"\\\\\")\n",
    "        \n",
    "                  \n",
    "print(draw_triangle(5))\n",
    "            "
   ]
  },
  {
   "cell_type": "code",
   "execution_count": 12,
   "id": "9e38f675-5939-484f-84d9-473eabcbe15d",
   "metadata": {},
   "outputs": [
    {
     "data": {
      "text/plain": [
       "[42, 'Failed', 'Failed', 74]"
      ]
     },
     "execution_count": 12,
     "metadata": {},
     "output_type": "execute_result"
    }
   ],
   "source": [
    "#Job 29\n",
    "\n",
    "\n",
    "def rounding_marks(marklist): #liste de notes entre 0 et 100\n",
    "    rounded_list=[]\n",
    "    for i in range(len(marklist)):\n",
    "        if marklist[i]<40:\n",
    "            rounded_list.append(\"Failed\")\n",
    "        else: \n",
    "            if marklist[i]%5>2:\n",
    "                rounded_list.append(marklist[i]+1)\n",
    "            else:\n",
    "                rounded_list.append(marklist[i])\n",
    "    return rounded_list\n",
    "\n",
    "rounding_marks([42,12,28,73])            "
   ]
  },
  {
   "cell_type": "code",
   "execution_count": 13,
   "id": "2b716bc2-4482-4445-ba86-ba25f27aeab1",
   "metadata": {},
   "outputs": [
    {
     "data": {
      "text/plain": [
       "'maonn'"
      ]
     },
     "execution_count": 13,
     "metadata": {},
     "output_type": "execute_result"
    }
   ],
   "source": [
    "#Job 31\n",
    "\n",
    "#marche, mais comment le rendre beaucoup plus joli? Et synthétique? \n",
    "\n",
    "def proximate_word(word):\n",
    "    n=len(word)\n",
    "    new_word=[]\n",
    "    end_word=[]\n",
    "    for i in range (1, n):\n",
    "        if word[-i]>word[-i-1]:\n",
    "            for letter in word[:n-i-1]:\n",
    "                new_word.append(letter)\n",
    "            new_word.append(word[-i])\n",
    "            end_word.append(word[-i-1])\n",
    "            for letter in word[n-i+1:]:\n",
    "                end_word.append(letter)\n",
    "            end_word.sort()\n",
    "            for letter in end_word:\n",
    "                new_word.append(letter)\n",
    "            return \"\".join(new_word)\n",
    "        else:\n",
    "            continue\n",
    "            \n",
    "proximate_word(\"manon\")\n",
    "            "
   ]
  }
 ],
 "metadata": {
  "interpreter": {
   "hash": "a0f5bad965e1575078ac34196b63f75973d0442efe32b27a38accf8f84207d46"
  },
  "kernelspec": {
   "display_name": "Python 3 (ipykernel)",
   "language": "python",
   "name": "python3"
  },
  "language_info": {
   "codemirror_mode": {
    "name": "ipython",
    "version": 3
   },
   "file_extension": ".py",
   "mimetype": "text/x-python",
   "name": "python",
   "nbconvert_exporter": "python",
   "pygments_lexer": "ipython3",
   "version": "3.10.4"
  }
 },
 "nbformat": 4,
 "nbformat_minor": 5
}
